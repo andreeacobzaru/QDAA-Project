{
 "cells": [
  {
   "cell_type": "code",
   "execution_count": 240,
   "metadata": {},
   "outputs": [],
   "source": [
    "from BRScraper import nba\n",
    "import pandas as pd\n",
    "import re\n",
    "import time"
   ]
  },
  {
   "cell_type": "code",
   "execution_count": 241,
   "metadata": {},
   "outputs": [],
   "source": [
    "df = pd.read_csv('contracts.csv')"
   ]
  },
  {
   "cell_type": "code",
   "execution_count": 242,
   "metadata": {},
   "outputs": [],
   "source": [
    "def get_player_stats(name):\n",
    "    \n",
    "    name2 = re.sub('[^a-zA-Z0-9 \\n\\.]', '', name)\n",
    "\n",
    "    if name2!=name:\n",
    "        raise ValueError(name+' has special characters and is not a valid name. Try replacing the special characters.')\n",
    "\n",
    "    try:\n",
    "        name_url = name.lower().strip().split(' ')\n",
    "\n",
    "        if len(name_url[1])>=5:\n",
    "            len_name = 5\n",
    "        else:\n",
    "            len_name = len(name_url[1])\n",
    "\n",
    "        name_url = name_url[1][:len_name] + name_url[0][:2]\n",
    "\n",
    "        first_l = name.strip().split(' ')[1][0].lower()\n",
    "\n",
    "        url = 'https://www.basketball-reference.com/players/'+first_l+'/'+name_url+'01.html'\n",
    "\n",
    "    except:\n",
    "        raise ValueError(name+''' is not in a valid name format.\n",
    "                        Valid names would be \"LeBron James\", \"lebron james\" or \"LEBRON JAMES\" for example.''')\n",
    "                         \n",
    "    try:\n",
    "        player_df = pd.read_html(url)[0]\n",
    "        \n",
    "    except:\n",
    "        raise ValueError(name+' is not a valid name. Check for mispelling errors or if that players exists.')\n",
    "                         \n",
    "    player_df = player_df.dropna(how='all', axis=0)\n",
    "    \n",
    "    num = player_df[player_df['Season']=='Career'].index[0]\n",
    "    \n",
    "    player_df = player_df.iloc[:num]\n",
    "    \n",
    "    return player_df"
   ]
  },
  {
   "cell_type": "code",
   "execution_count": 243,
   "metadata": {},
   "outputs": [],
   "source": [
    "seasons = ['2023-24', '2022-23', '2021-22', '2020-21', '2019-20', '2018-19']\n",
    "\n",
    "def get_final_data(name: str, contract_year: str):\n",
    "    player = get_player_stats(name)\n",
    "\n",
    "    cy_index = seasons.index(contract_year)\n",
    "    cy = seasons[cy_index]\n",
    "    cyM1 = seasons[cy_index + 1]\n",
    "    cyM2 = seasons[cy_index + 2]\n",
    "\n",
    "    player = player.iloc[::-1]\n",
    "    player = player[player.Lg.isin(['NBA'])]\n",
    "    player = player[player.Season.isin([cy, cyM1, cyM2])]\n",
    "    player = player.drop_duplicates(subset = ['Season'], keep = 'last')\n",
    "    player = player.drop(['Age', 'Tm', 'Lg', 'Pos', 'Awards',], axis = 1)\n",
    "\n",
    "    player_contract = df.loc[df['PLAYER'] == 'Steven Adams']\n",
    "    cy_data = player[player['Season'] == cy]\n",
    "    cyM1_data = player[player['Season'] == cyM1]\n",
    "    cyM2_data = player[player['Season'] == cyM2]\n",
    "\n",
    "    for col in cy_data.columns:\n",
    "        cy_data.rename(columns={col: 'CY ' + col}, inplace = True)\n",
    "\n",
    "    for col in cyM1_data.columns:\n",
    "        cyM1_data.rename(columns={col: 'CYM1 ' + col}, inplace = True)\n",
    "\n",
    "    for col in cyM2_data.columns:\n",
    "        cyM2_data.rename(columns={col: 'CYM2 ' + col}, inplace = True)\n",
    "\n",
    "    cy_data = cy_data.reset_index(drop = True)\n",
    "    cyM1_data = cyM1_data.reset_index(drop = True)\n",
    "    cyM2_data = cyM2_data.reset_index(drop = True)\n",
    "    player_contract = player_contract.reset_index(drop = True)\n",
    "\n",
    "    final_df = player_contract.join([cy_data, cyM1_data, cyM2_data])\n",
    "\n",
    "    return final_df"
   ]
  },
  {
   "cell_type": "code",
   "execution_count": 249,
   "metadata": {},
   "outputs": [
    {
     "name": "stderr",
     "output_type": "stream",
     "text": [
      "C:\\Users\\nsalo\\AppData\\Local\\Temp\\ipykernel_19232\\1268446808.py:23: SettingWithCopyWarning: \n",
      "A value is trying to be set on a copy of a slice from a DataFrame\n",
      "\n",
      "See the caveats in the documentation: https://pandas.pydata.org/pandas-docs/stable/user_guide/indexing.html#returning-a-view-versus-a-copy\n",
      "  cy_data.rename(columns={col: 'CY ' + col}, inplace = True)\n",
      "C:\\Users\\nsalo\\AppData\\Local\\Temp\\ipykernel_19232\\1268446808.py:26: SettingWithCopyWarning: \n",
      "A value is trying to be set on a copy of a slice from a DataFrame\n",
      "\n",
      "See the caveats in the documentation: https://pandas.pydata.org/pandas-docs/stable/user_guide/indexing.html#returning-a-view-versus-a-copy\n",
      "  cyM1_data.rename(columns={col: 'CYM1 ' + col}, inplace = True)\n"
     ]
    },
    {
     "name": "stdout",
     "output_type": "stream",
     "text": [
      "Malik Shake Milton is not a valid name. Check for mispelling errors or if that players exists.\n"
     ]
    }
   ],
   "source": [
    "finished_df = pd.DataFrame()\n",
    "\n",
    "try:\n",
    "    for index, row in df.iterrows():\n",
    "        player_info = get_final_data(row['PLAYER'], row['SEASON'])\n",
    "        finished_df = finished_df.join(player_info)\n",
    "\n",
    "        time.sleep(5)\n",
    "\n",
    "except Exception as e:\n",
    "    print(e)\n",
    "\n",
    "finished_df.to_csv('dataset.csv', sep = ',' , decimal = '.', index = False)"
   ]
  }
 ],
 "metadata": {
  "kernelspec": {
   "display_name": "Python 3",
   "language": "python",
   "name": "python3"
  },
  "language_info": {
   "codemirror_mode": {
    "name": "ipython",
    "version": 3
   },
   "file_extension": ".py",
   "mimetype": "text/x-python",
   "name": "python",
   "nbconvert_exporter": "python",
   "pygments_lexer": "ipython3",
   "version": "3.11.4"
  }
 },
 "nbformat": 4,
 "nbformat_minor": 2
}
