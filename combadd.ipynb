{
 "cells": [
  {
   "cell_type": "code",
   "execution_count": 1,
   "metadata": {},
   "outputs": [],
   "source": [
    "from BRScraper import nba\n",
    "import pandas as pd \n",
    "import numpy as np"
   ]
  },
  {
   "cell_type": "code",
   "execution_count": 2,
   "metadata": {},
   "outputs": [],
   "source": [
    "def select_data(desired_seasons, stats, salary, cap):\n",
    "    df_f = pd.DataFrame()\n",
    "\n",
    "    for desired_season in desired_seasons:\n",
    "        # Selecting only salaries of S and S - 1\n",
    "        salary1 = salary[['Player', desired_season,\n",
    "                          str(int(desired_season[:4])-1)+'-'+str(int(desired_season[5:7])-1)]]\n",
    "        \n",
    "        stats1 = stats[stats[\"Season S-1\"]==str(int(desired_season[:4])-1)+'-'+str(int(desired_season[5:7])-1)]\n",
    "\n",
    "        df = stats1.merge(salary1, on='Player', how='left', validate='1:1')\n",
    "\n",
    "        df = df.rename(columns={str(int(desired_season[:4])-1)+'-'+str(int(desired_season[5:7])-1):'Salary S-1',\n",
    "                                  desired_season:'Salary S'})\n",
    "        \n",
    "        # Removing null values\n",
    "        df = df[(df['Salary S']!=-1) & (df['Salary S'].notna())]\n",
    "\n",
    "        df['Year S'] = ('20'+((df['Season S-1'].str[5:7]).astype(int)+1).astype(str)).astype(int)\n",
    "        df['Year S-1'] = ('20'+(df['Season S-1'].str[5:7]).astype(str)).astype(int)\n",
    "\n",
    "        cap2 = cap.rename(columns={'Cap Maximum':'Cap Maximum S', 'Year':'Year S'})\n",
    "        df = df.merge(cap2, how='left', on='Year S', validate='m:1')\n",
    "\n",
    "        cap2 = cap2.rename(columns={'Cap Maximum S':'Cap Maximum S-1', 'Year S':'Year S-1'})\n",
    "        df = df.merge(cap2, how='left', on='Year S-1', validate='m:1')\n",
    "\n",
    "        df['% of Cap S-1'] = df['Salary S-1']/df['Cap Maximum S-1']*100\n",
    "        df['% of Cap S-1'][df['% of Cap S-1']<0] = -1\n",
    "\n",
    "        df['% of Cap S'] = df['Salary S']/df['Cap Maximum S']*100\n",
    "        df['% of Cap S'][df['% of Cap S']<0] = -1\n",
    "\n",
    "        # Get dummies for positions\n",
    "        pos = pd.get_dummies(df['Pos']).astype(int)\n",
    "\n",
    "        for col in pos.columns:\n",
    "            if len(col)>3:\n",
    "                pos = pos.rename(columns={col: col.split('-')[0]})\n",
    "        pos = pos[['PG','SG','SF','PF','C']]\n",
    "        pos = pos.groupby(pos.columns, axis=1).sum()\n",
    "\n",
    "        df = df.join(pos)\n",
    "        df = df.drop(columns={'Pos','Year S','Year S-1'}).reset_index(drop=True)\n",
    "\n",
    "        df_f = pd.concat([df_f, df], ignore_index=True)\n",
    "        \n",
    "    df_f = df_f.fillna(0)\n",
    "        \n",
    "    return df_f\n",
    "        "
   ]
  },
  {
   "cell_type": "code",
   "execution_count": null,
   "metadata": {},
   "outputs": [],
   "source": []
  }
 ],
 "metadata": {
  "kernelspec": {
   "display_name": "Python 3",
   "language": "python",
   "name": "python3"
  },
  "language_info": {
   "codemirror_mode": {
    "name": "ipython",
    "version": 3
   },
   "file_extension": ".py",
   "mimetype": "text/x-python",
   "name": "python",
   "nbconvert_exporter": "python",
   "pygments_lexer": "ipython3",
   "version": "3.10.7"
  }
 },
 "nbformat": 4,
 "nbformat_minor": 2
}
